{
 "cells": [
  {
   "cell_type": "code",
   "execution_count": 27,
   "id": "0c161ac8-05f8-459c-b45d-bd1702e2a1da",
   "metadata": {},
   "outputs": [],
   "source": [
    "import requests\n",
    "import re\n",
    "import numpy as np\n",
    "import pandas as pd\n",
    "import matplotlib.pyplot as plt\n",
    "from bs4 import BeautifulSoup, SoupStrainer\n",
    "from bs4.element import Comment\n",
    "from datetime import datetime\n",
    "from unicodedata import normalize\n",
    "from time import mktime\n",
    "import csv"
   ]
  },
  {
   "cell_type": "code",
   "execution_count": 92,
   "id": "f289814c-a055-47ad-9304-20a535864666",
   "metadata": {},
   "outputs": [],
   "source": [
    "FIELDNAMES = [\n",
    " 'high', 'close', 'timestamp', 'low', 'open'\n",
    "]\n",
    "\n",
    "params = {\n",
    "    \"region\": \"US\",\n",
    "    \"lang\": \"en-US\",\n",
    "    \"includePrePost\": False,\n",
    "    \"interval\": \"1m\" ,\n",
    "    \"useYfid\": True,\n",
    "#     \"range\": \"1d\",\n",
    "    \"period1\": 1713965400 - 60 * 200,\n",
    "    \"period2\": 1713965400,\n",
    "    \"corsDomain\": \"finance.yahoo.com\",\n",
    "    \".tsrc\": \"finance\",\n",
    "}\n",
    "\n",
    "# symbol = \"BTC-USD\"\n",
    "symbol = \"BITO240426C00029000\"\n",
    "\n",
    "url = \"https://query1.finance.yahoo.com/v8/finance/chart/\" + symbol\n",
    "\n",
    "resp = requests.get(\n",
    "    url,\n",
    "    params=params,\n",
    "    headers={\n",
    "        \"User-Agent\": \"Mozilla/5.0 (Macintosh; Intel Mac OS X 10_15_7) AppleWebKit/537.36 (KHTML, like Gecko) Chrome/109.0.0.0 Safari/537.36\"\n",
    "    },\n",
    ")"
   ]
  },
  {
   "cell_type": "code",
   "execution_count": 93,
   "id": "2a5629c5-9d33-476f-ae30-49de3bab38b6",
   "metadata": {},
   "outputs": [
    {
     "name": "stdout",
     "output_type": "stream",
     "text": [
      "https://query1.finance.yahoo.com/v8/finance/chart/BITO240426C00029000?region=US&lang=en-US&includePrePost=False&interval=1m&useYfid=True&period1=1713953400&period2=1713965400&corsDomain=finance.yahoo.com&.tsrc=finance\n"
     ]
    }
   ],
   "source": [
    "print(resp.url)\n",
    "\n",
    "result_dict = resp.json().get(\"chart\", dict()).get(\"result\")[0]\n",
    "timestamps = result_dict.get(\"timestamp\")\n",
    "quote_dict = result_dict.get(\"indicators\").get(\"quote\")[0]\n",
    "open_prices = quote_dict.get(\"open\")\n",
    "close_prices = quote_dict.get(\"close\")\n",
    "high_prices = quote_dict.get(\"high\")\n",
    "low_prices = quote_dict.get(\"low\")\n",
    "\n",
    "# out_f = open(symbol + \".csv\", \"w\", encoding=\"utf-8\")\n",
    "\n",
    "# csv_writer = csv.DictWriter(out_f, fieldnames=FIELDNAMES, lineterminator=\"\\n\")\n",
    "# csv_writer.writeheader()\n",
    "\n",
    "# for i in range(len(timestamps)):\n",
    "#     timestamps[i] = datetime.fromtimestamp(timestamps[i])\n",
    "\n",
    "# for i in range(len(timestamps)):\n",
    "#     row = {\n",
    "#         \"timestamp\": timestamps[i],\n",
    "#         \"open\": open_prices[i],\n",
    "#         \"close\": close_prices[i],\n",
    "#         \"high\": high_prices[i],\n",
    "#         \"low\": low_prices[i],\n",
    "#     }\n",
    "\n",
    "#     csv_writer.writerow(row)\n",
    "\n",
    "# out_f.close()"
   ]
  },
  {
   "cell_type": "code",
   "execution_count": 67,
   "id": "1abb82d3-5be0-45b2-84a1-99ad457f49c6",
   "metadata": {},
   "outputs": [
    {
     "data": {
      "text/plain": [
       "datetime.datetime(2024, 4, 24, 21, 19)"
      ]
     },
     "execution_count": 67,
     "metadata": {},
     "output_type": "execute_result"
    }
   ],
   "source": [
    "datetime.fromtimestamp(timestamps[i])"
   ]
  },
  {
   "cell_type": "code",
   "execution_count": 73,
   "id": "aab01832-4946-4c77-b612-fb808543c767",
   "metadata": {},
   "outputs": [
    {
     "data": {
      "text/plain": [
       "347"
      ]
     },
     "execution_count": 73,
     "metadata": {},
     "output_type": "execute_result"
    }
   ],
   "source": [
    "len(timestamps)"
   ]
  },
  {
   "cell_type": "code",
   "execution_count": 83,
   "id": "01cad488-5ac8-4362-b10a-17f47ae7433a",
   "metadata": {},
   "outputs": [
    {
     "data": {
      "text/plain": [
       "1713964800"
      ]
     },
     "execution_count": 83,
     "metadata": {},
     "output_type": "execute_result"
    }
   ],
   "source": [
    "1713965400 - 60 * 10"
   ]
  },
  {
   "cell_type": "code",
   "execution_count": 94,
   "id": "fe5a0c09-afe1-4a9e-86b7-21164653b2f0",
   "metadata": {},
   "outputs": [],
   "source": [
    "timestamps"
   ]
  },
  {
   "cell_type": "code",
   "execution_count": null,
   "id": "81667aeb-0a60-4703-bb20-840a9e4bfd5c",
   "metadata": {},
   "outputs": [],
   "source": []
  },
  {
   "cell_type": "code",
   "execution_count": null,
   "id": "82fddea1-e578-4304-9796-2844bbde29fd",
   "metadata": {},
   "outputs": [],
   "source": []
  }
 ],
 "metadata": {
  "kernelspec": {
   "display_name": "Python 3",
   "language": "python",
   "name": "python3"
  },
  "language_info": {
   "codemirror_mode": {
    "name": "ipython",
    "version": 3
   },
   "file_extension": ".py",
   "mimetype": "text/x-python",
   "name": "python",
   "nbconvert_exporter": "python",
   "pygments_lexer": "ipython3",
   "version": "3.9.5"
  }
 },
 "nbformat": 4,
 "nbformat_minor": 5
}
