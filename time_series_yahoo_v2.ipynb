{
 "cells": [
  {
   "cell_type": "code",
   "execution_count": 7,
   "id": "9e4ff7bb-ee2e-491f-baf3-d54e0993f9f6",
   "metadata": {
    "tags": []
   },
   "outputs": [],
   "source": [
    "import yfinance as yf\n",
    "import numpy as np\n",
    "import pandas as pd\n",
    "import requests\n",
    "from bs4 import BeautifulSoup, SoupStrainer\n",
    "from textual_analysis.tools_scrapping import gather_links"
   ]
  },
  {
   "cell_type": "code",
   "execution_count": 8,
   "id": "45ba9df7-8ea5-4b92-8697-694741cb413c",
   "metadata": {},
   "outputs": [],
   "source": [
    "def clean_links(links):\n",
    "    clean_links_array = []\n",
    "    for link in links:\n",
    "        if \"quote\" in link and \"-USD\" in link:\n",
    "            clean_links_array.append(link.replace(\"/quote/\",\"\"))\n",
    "            \n",
    "    return clean_links_array"
   ]
  },
  {
   "cell_type": "code",
   "execution_count": 9,
   "id": "bf909085-95ac-4631-8b93-0b012726f0bf",
   "metadata": {},
   "outputs": [
    {
     "name": "stderr",
     "output_type": "stream",
     "text": [
      "/home/ignacio/Documents/SFU/crypto/textual_analysis/tools_scrapping.py:19: GuessedAtParserWarning: No parser was explicitly specified, so I'm using the best available HTML parser for this system (\"lxml\"). This usually isn't a problem, but if you run this code on another system, or in a different virtual environment, it may use a different parser and behave differently.\n",
      "\n",
      "The code that caused this warning is on line 19 of the file /home/ignacio/Documents/SFU/crypto/textual_analysis/tools_scrapping.py. To get rid of this warning, pass the additional argument 'features=\"lxml\"' to the BeautifulSoup constructor.\n",
      "\n",
      "  for link in BeautifulSoup(response.content, parse_only=SoupStrainer('a')):\n"
     ]
    }
   ],
   "source": [
    "symbols = []\n",
    "\n",
    "for offset in np.arange(0,9900,100):\n",
    "    url = f\"https://finance.yahoo.com/screener/predefined/all_cryptocurrencies_us/?count=100&offset={offset}\"\n",
    "\n",
    "    resp = requests.get(\n",
    "        url,\n",
    "        headers={\n",
    "            \"User-Agent\": \"Mozilla/5.0 (Macintosh; Intel Mac OS X 10_15_7) AppleWebKit/537.36 (KHTML, like Gecko) Chrome/109.0.0.0 Safari/537.36\"\n",
    "        },\n",
    "    )\n",
    "    \n",
    "    links = gather_links(resp)\n",
    "    \n",
    "    clean_links_array = clean_links(links)\n",
    "    \n",
    "    symbols = symbols + clean_links_array"
   ]
  },
  {
   "cell_type": "code",
   "execution_count": 10,
   "id": "d542e1a6-bc2e-4f93-9904-02f1ca669d64",
   "metadata": {},
   "outputs": [],
   "source": [
    "symbols_bis = symbols.copy()\n",
    "symbols = []\n",
    "for x in symbols_bis:\n",
    "    if x not in symbols:\n",
    "        symbols.append(x)"
   ]
  },
  {
   "cell_type": "code",
   "execution_count": 11,
   "id": "195958a6-eac7-427d-b848-351c86ed7248",
   "metadata": {},
   "outputs": [],
   "source": [
    "stablecoins = list(pd.read_csv('stablecoins.csv').keys())\n",
    "stablecoins = list(map(lambda x: x.lower(), stablecoins))"
   ]
  },
  {
   "cell_type": "code",
   "execution_count": 12,
   "id": "f070ffee-6366-4464-8c5d-a84e6f42a97a",
   "metadata": {},
   "outputs": [],
   "source": [
    "symbol_non_stablecoins = []\n",
    "symbol_stablecoins     = []\n",
    "\n",
    "for symbol in symbols:\n",
    "    \n",
    "    cmp = symbol.replace(\"-USD\", \"\").lower()\n",
    "    if cmp in stablecoins:\n",
    "        symbol_stablecoins.append(symbol)\n",
    "    else:\n",
    "        symbol_non_stablecoins.append(symbol)"
   ]
  },
  {
   "cell_type": "code",
   "execution_count": 52,
   "id": "9bd2691b-4fdd-487a-bd55-f8ee32cfb6ea",
   "metadata": {},
   "outputs": [
    {
     "name": "stdout",
     "output_type": "stream",
     "text": [
      "7744\n",
      "72\n"
     ]
    }
   ],
   "source": [
    "print(len(symbol_non_stablecoins))\n",
    "print(len(symbol_stablecoins))"
   ]
  },
  {
   "cell_type": "code",
   "execution_count": 13,
   "id": "10b0e5f2-62d1-4a10-89a7-0eeefc0c1c0f",
   "metadata": {},
   "outputs": [
    {
     "name": "stderr",
     "output_type": "stream",
     "text": [
      "IKI-USD: Period 'max' is invalid, must be one of ['1d', '5d']\n",
      "DILL-USD: Period 'max' is invalid, must be one of ['1d', '5d']\n",
      "GUMMIES-USD: Period 'max' is invalid, must be one of ['1d', '5d']\n",
      "GENAI31054-USD: Period 'max' is invalid, must be one of ['1d', '5d']\n",
      "ROBO18457-USD: Period 'max' is invalid, must be one of ['1d', '5d']\n",
      "CPA-USD: Period 'max' is invalid, must be one of ['1d', '5d']\n",
      "KILLSOLANA-USD: Period 'max' is invalid, must be one of ['1d', '5d']\n",
      "PIRATECOIN-USD: Period 'max' is invalid, must be one of ['1d', '5d']\n",
      "IRIS26908-USD: Period 'max' is invalid, must be one of ['1d', '5d']\n",
      "XBTC-USD: Period 'max' is invalid, must be one of ['1d', '5d']\n",
      "BOCAT-USD: Period 'max' is invalid, must be one of ['1d', '5d']\n"
     ]
    }
   ],
   "source": [
    "i = 0\n",
    "for symbol in symbols:\n",
    "    msft = yf.Ticker(symbol)\n",
    "    temp_data = msft.history(period=\"max\")\n",
    "    \n",
    "    if temp_data.empty:\n",
    "        i+=1\n",
    "        continue\n",
    "    \n",
    "    nrows = temp_data.shape[0]\n",
    "    ticker = [symbol] * nrows\n",
    "    temp_data = temp_data.drop(columns = ['Dividends', \"Stock Splits\"])\n",
    "    temp_data['close_times_volume'] = temp_data['Close'] * temp_data['Volume']\n",
    "    temp_data['Ticker'] = ticker\n",
    "    temp_data['Date'] = temp_data.index\n",
    "    \n",
    "    if symbol in symbol_stablecoins:\n",
    "        temp_data['stablecoin'] = [True]  * nrows\n",
    "    else:\n",
    "        temp_data['stablecoin'] = [False] * nrows\n",
    "        \n",
    "    if i == 0:\n",
    "        data = temp_data.copy()\n",
    "    else:\n",
    "        data = pd.concat([data, temp_data],axis = 0)\n",
    "    \n",
    "    i+=1\n",
    "    \n",
    "compression_opts = dict(method='zip',\n",
    "                        archive_name='data_crypto_25_april.csv')\n",
    "data.to_csv('data_crypto_25_april.zip', index=False,\n",
    "          compression=compression_opts) "
   ]
  },
  {
   "cell_type": "code",
   "execution_count": 15,
   "id": "709019f2-c2c2-4fce-a477-7ed1800e4be9",
   "metadata": {},
   "outputs": [
    {
     "data": {
      "text/html": [
       "<div>\n",
       "<style scoped>\n",
       "    .dataframe tbody tr th:only-of-type {\n",
       "        vertical-align: middle;\n",
       "    }\n",
       "\n",
       "    .dataframe tbody tr th {\n",
       "        vertical-align: top;\n",
       "    }\n",
       "\n",
       "    .dataframe thead th {\n",
       "        text-align: right;\n",
       "    }\n",
       "</style>\n",
       "<table border=\"1\" class=\"dataframe\">\n",
       "  <thead>\n",
       "    <tr style=\"text-align: right;\">\n",
       "      <th></th>\n",
       "      <th>Open</th>\n",
       "      <th>High</th>\n",
       "      <th>Low</th>\n",
       "      <th>Close</th>\n",
       "      <th>Volume</th>\n",
       "      <th>close_times_volume</th>\n",
       "      <th>Ticker</th>\n",
       "      <th>Date</th>\n",
       "      <th>stablecoin</th>\n",
       "    </tr>\n",
       "    <tr>\n",
       "      <th>Date</th>\n",
       "      <th></th>\n",
       "      <th></th>\n",
       "      <th></th>\n",
       "      <th></th>\n",
       "      <th></th>\n",
       "      <th></th>\n",
       "      <th></th>\n",
       "      <th></th>\n",
       "      <th></th>\n",
       "    </tr>\n",
       "  </thead>\n",
       "  <tbody>\n",
       "    <tr>\n",
       "      <th>2014-09-17 00:00:00+00:00</th>\n",
       "      <td>465.864014</td>\n",
       "      <td>468.174011</td>\n",
       "      <td>452.421997</td>\n",
       "      <td>457.334015</td>\n",
       "      <td>21056800</td>\n",
       "      <td>9.629991e+09</td>\n",
       "      <td>BTC-USD</td>\n",
       "      <td>2014-09-17 00:00:00+00:00</td>\n",
       "      <td>False</td>\n",
       "    </tr>\n",
       "    <tr>\n",
       "      <th>2014-09-18 00:00:00+00:00</th>\n",
       "      <td>456.859985</td>\n",
       "      <td>456.859985</td>\n",
       "      <td>413.104004</td>\n",
       "      <td>424.440002</td>\n",
       "      <td>34483200</td>\n",
       "      <td>1.463605e+10</td>\n",
       "      <td>BTC-USD</td>\n",
       "      <td>2014-09-18 00:00:00+00:00</td>\n",
       "      <td>False</td>\n",
       "    </tr>\n",
       "    <tr>\n",
       "      <th>2014-09-19 00:00:00+00:00</th>\n",
       "      <td>424.102997</td>\n",
       "      <td>427.834991</td>\n",
       "      <td>384.532013</td>\n",
       "      <td>394.795990</td>\n",
       "      <td>37919700</td>\n",
       "      <td>1.497055e+10</td>\n",
       "      <td>BTC-USD</td>\n",
       "      <td>2014-09-19 00:00:00+00:00</td>\n",
       "      <td>False</td>\n",
       "    </tr>\n",
       "    <tr>\n",
       "      <th>2014-09-20 00:00:00+00:00</th>\n",
       "      <td>394.673004</td>\n",
       "      <td>423.295990</td>\n",
       "      <td>389.882996</td>\n",
       "      <td>408.903992</td>\n",
       "      <td>36863600</td>\n",
       "      <td>1.507367e+10</td>\n",
       "      <td>BTC-USD</td>\n",
       "      <td>2014-09-20 00:00:00+00:00</td>\n",
       "      <td>False</td>\n",
       "    </tr>\n",
       "    <tr>\n",
       "      <th>2014-09-21 00:00:00+00:00</th>\n",
       "      <td>408.084991</td>\n",
       "      <td>412.425995</td>\n",
       "      <td>393.181000</td>\n",
       "      <td>398.821014</td>\n",
       "      <td>26580100</td>\n",
       "      <td>1.060070e+10</td>\n",
       "      <td>BTC-USD</td>\n",
       "      <td>2014-09-21 00:00:00+00:00</td>\n",
       "      <td>False</td>\n",
       "    </tr>\n",
       "    <tr>\n",
       "      <th>...</th>\n",
       "      <td>...</td>\n",
       "      <td>...</td>\n",
       "      <td>...</td>\n",
       "      <td>...</td>\n",
       "      <td>...</td>\n",
       "      <td>...</td>\n",
       "      <td>...</td>\n",
       "      <td>...</td>\n",
       "      <td>...</td>\n",
       "    </tr>\n",
       "    <tr>\n",
       "      <th>2024-04-29 00:00:00+00:00</th>\n",
       "      <td>0.071031</td>\n",
       "      <td>0.073879</td>\n",
       "      <td>0.060258</td>\n",
       "      <td>0.060437</td>\n",
       "      <td>106445240</td>\n",
       "      <td>6.433231e+06</td>\n",
       "      <td>KNFT-USD</td>\n",
       "      <td>2024-04-29 00:00:00+00:00</td>\n",
       "      <td>False</td>\n",
       "    </tr>\n",
       "    <tr>\n",
       "      <th>2024-04-30 00:00:00+00:00</th>\n",
       "      <td>0.060397</td>\n",
       "      <td>0.061748</td>\n",
       "      <td>0.045054</td>\n",
       "      <td>0.048623</td>\n",
       "      <td>59956819</td>\n",
       "      <td>2.915280e+06</td>\n",
       "      <td>KNFT-USD</td>\n",
       "      <td>2024-04-30 00:00:00+00:00</td>\n",
       "      <td>False</td>\n",
       "    </tr>\n",
       "    <tr>\n",
       "      <th>2024-05-01 00:00:00+00:00</th>\n",
       "      <td>0.048583</td>\n",
       "      <td>0.053489</td>\n",
       "      <td>0.031196</td>\n",
       "      <td>0.031254</td>\n",
       "      <td>62400528</td>\n",
       "      <td>1.950266e+06</td>\n",
       "      <td>KNFT-USD</td>\n",
       "      <td>2024-05-01 00:00:00+00:00</td>\n",
       "      <td>False</td>\n",
       "    </tr>\n",
       "    <tr>\n",
       "      <th>2024-05-02 00:00:00+00:00</th>\n",
       "      <td>0.031344</td>\n",
       "      <td>0.048958</td>\n",
       "      <td>0.022921</td>\n",
       "      <td>0.036012</td>\n",
       "      <td>42384285</td>\n",
       "      <td>1.526343e+06</td>\n",
       "      <td>KNFT-USD</td>\n",
       "      <td>2024-05-02 00:00:00+00:00</td>\n",
       "      <td>False</td>\n",
       "    </tr>\n",
       "    <tr>\n",
       "      <th>2024-05-03 00:00:00+00:00</th>\n",
       "      <td>0.036032</td>\n",
       "      <td>0.036980</td>\n",
       "      <td>0.033018</td>\n",
       "      <td>0.034325</td>\n",
       "      <td>60829576</td>\n",
       "      <td>2.087977e+06</td>\n",
       "      <td>KNFT-USD</td>\n",
       "      <td>2024-05-03 00:00:00+00:00</td>\n",
       "      <td>False</td>\n",
       "    </tr>\n",
       "  </tbody>\n",
       "</table>\n",
       "<p>5798119 rows × 9 columns</p>\n",
       "</div>"
      ],
      "text/plain": [
       "                                 Open        High         Low       Close  \\\n",
       "Date                                                                        \n",
       "2014-09-17 00:00:00+00:00  465.864014  468.174011  452.421997  457.334015   \n",
       "2014-09-18 00:00:00+00:00  456.859985  456.859985  413.104004  424.440002   \n",
       "2014-09-19 00:00:00+00:00  424.102997  427.834991  384.532013  394.795990   \n",
       "2014-09-20 00:00:00+00:00  394.673004  423.295990  389.882996  408.903992   \n",
       "2014-09-21 00:00:00+00:00  408.084991  412.425995  393.181000  398.821014   \n",
       "...                               ...         ...         ...         ...   \n",
       "2024-04-29 00:00:00+00:00    0.071031    0.073879    0.060258    0.060437   \n",
       "2024-04-30 00:00:00+00:00    0.060397    0.061748    0.045054    0.048623   \n",
       "2024-05-01 00:00:00+00:00    0.048583    0.053489    0.031196    0.031254   \n",
       "2024-05-02 00:00:00+00:00    0.031344    0.048958    0.022921    0.036012   \n",
       "2024-05-03 00:00:00+00:00    0.036032    0.036980    0.033018    0.034325   \n",
       "\n",
       "                              Volume  close_times_volume    Ticker  \\\n",
       "Date                                                                 \n",
       "2014-09-17 00:00:00+00:00   21056800        9.629991e+09   BTC-USD   \n",
       "2014-09-18 00:00:00+00:00   34483200        1.463605e+10   BTC-USD   \n",
       "2014-09-19 00:00:00+00:00   37919700        1.497055e+10   BTC-USD   \n",
       "2014-09-20 00:00:00+00:00   36863600        1.507367e+10   BTC-USD   \n",
       "2014-09-21 00:00:00+00:00   26580100        1.060070e+10   BTC-USD   \n",
       "...                              ...                 ...       ...   \n",
       "2024-04-29 00:00:00+00:00  106445240        6.433231e+06  KNFT-USD   \n",
       "2024-04-30 00:00:00+00:00   59956819        2.915280e+06  KNFT-USD   \n",
       "2024-05-01 00:00:00+00:00   62400528        1.950266e+06  KNFT-USD   \n",
       "2024-05-02 00:00:00+00:00   42384285        1.526343e+06  KNFT-USD   \n",
       "2024-05-03 00:00:00+00:00   60829576        2.087977e+06  KNFT-USD   \n",
       "\n",
       "                                               Date  stablecoin  \n",
       "Date                                                             \n",
       "2014-09-17 00:00:00+00:00 2014-09-17 00:00:00+00:00       False  \n",
       "2014-09-18 00:00:00+00:00 2014-09-18 00:00:00+00:00       False  \n",
       "2014-09-19 00:00:00+00:00 2014-09-19 00:00:00+00:00       False  \n",
       "2014-09-20 00:00:00+00:00 2014-09-20 00:00:00+00:00       False  \n",
       "2014-09-21 00:00:00+00:00 2014-09-21 00:00:00+00:00       False  \n",
       "...                                             ...         ...  \n",
       "2024-04-29 00:00:00+00:00 2024-04-29 00:00:00+00:00       False  \n",
       "2024-04-30 00:00:00+00:00 2024-04-30 00:00:00+00:00       False  \n",
       "2024-05-01 00:00:00+00:00 2024-05-01 00:00:00+00:00       False  \n",
       "2024-05-02 00:00:00+00:00 2024-05-02 00:00:00+00:00       False  \n",
       "2024-05-03 00:00:00+00:00 2024-05-03 00:00:00+00:00       False  \n",
       "\n",
       "[5798119 rows x 9 columns]"
      ]
     },
     "execution_count": 15,
     "metadata": {},
     "output_type": "execute_result"
    }
   ],
   "source": [
    "data"
   ]
  },
  {
   "cell_type": "code",
   "execution_count": 55,
   "id": "8ebbd3e5-ae0c-4a98-bfbb-a6bc41eee2e2",
   "metadata": {},
   "outputs": [
    {
     "data": {
      "text/plain": [
       "7729"
      ]
     },
     "execution_count": 55,
     "metadata": {},
     "output_type": "execute_result"
    }
   ],
   "source": [
    "len(data[data.stablecoin == False]['Ticker'].unique())"
   ]
  },
  {
   "cell_type": "code",
   "execution_count": 56,
   "id": "b58d0dbf-09c9-4767-810e-f6c74704bf4d",
   "metadata": {},
   "outputs": [
    {
     "data": {
      "text/plain": [
       "72"
      ]
     },
     "execution_count": 56,
     "metadata": {},
     "output_type": "execute_result"
    }
   ],
   "source": [
    "len(data[data.stablecoin == True]['Ticker'].unique())"
   ]
  },
  {
   "cell_type": "code",
   "execution_count": 26,
   "id": "5dd343f6-2250-4674-93eb-e5f28be408ff",
   "metadata": {},
   "outputs": [
    {
     "data": {
      "text/plain": [
       "9811"
      ]
     },
     "execution_count": 26,
     "metadata": {},
     "output_type": "execute_result"
    }
   ],
   "source": [
    "len(symbol_non_stablecoins)"
   ]
  },
  {
   "cell_type": "code",
   "execution_count": 27,
   "id": "376ae88c-2a4a-4bd3-904d-5a3fe95013da",
   "metadata": {},
   "outputs": [
    {
     "data": {
      "text/plain": [
       "7744"
      ]
     },
     "execution_count": 27,
     "metadata": {},
     "output_type": "execute_result"
    }
   ],
   "source": [
    "len(set(symbol_non_stablecoins))"
   ]
  },
  {
   "cell_type": "code",
   "execution_count": null,
   "id": "a4f7e1cf-39cd-43d5-ab7a-7c5ed60088b6",
   "metadata": {},
   "outputs": [],
   "source": []
  }
 ],
 "metadata": {
  "kernelspec": {
   "display_name": "Python 3",
   "language": "python",
   "name": "python3"
  },
  "language_info": {
   "codemirror_mode": {
    "name": "ipython",
    "version": 3
   },
   "file_extension": ".py",
   "mimetype": "text/x-python",
   "name": "python",
   "nbconvert_exporter": "python",
   "pygments_lexer": "ipython3",
   "version": "3.9.5"
  }
 },
 "nbformat": 4,
 "nbformat_minor": 5
}
