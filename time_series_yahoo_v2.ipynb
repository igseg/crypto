{
 "cells": [
  {
   "cell_type": "code",
   "execution_count": 1,
   "id": "9e4ff7bb-ee2e-491f-baf3-d54e0993f9f6",
   "metadata": {
    "tags": []
   },
   "outputs": [],
   "source": [
    "import yfinance as yf\n",
    "import numpy as np\n",
    "import pandas as pd\n",
    "import requests\n",
    "from bs4 import BeautifulSoup, SoupStrainer\n",
    "from textual_analysis.tools_scrapping import gather_links"
   ]
  },
  {
   "cell_type": "code",
   "execution_count": 2,
   "id": "45ba9df7-8ea5-4b92-8697-694741cb413c",
   "metadata": {},
   "outputs": [],
   "source": [
    "def clean_links(links):\n",
    "    clean_links_array = []\n",
    "    for link in links:\n",
    "        if \"quote\" in link and \"-USD\" in link:\n",
    "            clean_links_array.append(link.replace(\"/quote/\",\"\"))\n",
    "            \n",
    "    return clean_links_array"
   ]
  },
  {
   "cell_type": "code",
   "execution_count": 3,
   "id": "bf909085-95ac-4631-8b93-0b012726f0bf",
   "metadata": {},
   "outputs": [
    {
     "name": "stderr",
     "output_type": "stream",
     "text": [
      "/home/ignacio/Documents/SFU/crypto/textual_analysis/tools_scrapping.py:19: GuessedAtParserWarning: No parser was explicitly specified, so I'm using the best available HTML parser for this system (\"lxml\"). This usually isn't a problem, but if you run this code on another system, or in a different virtual environment, it may use a different parser and behave differently.\n",
      "\n",
      "The code that caused this warning is on line 19 of the file /home/ignacio/Documents/SFU/crypto/textual_analysis/tools_scrapping.py. To get rid of this warning, pass the additional argument 'features=\"lxml\"' to the BeautifulSoup constructor.\n",
      "\n",
      "  for link in BeautifulSoup(response.content, parse_only=SoupStrainer('a')):\n"
     ]
    }
   ],
   "source": [
    "symbols = []\n",
    "\n",
    "for offset in np.arange(0,9900,100):\n",
    "    url = f\"https://finance.yahoo.com/screener/predefined/all_cryptocurrencies_us/?count=100&offset={offset}\"\n",
    "\n",
    "    resp = requests.get(\n",
    "        url,\n",
    "        headers={\n",
    "            \"User-Agent\": \"Mozilla/5.0 (Macintosh; Intel Mac OS X 10_15_7) AppleWebKit/537.36 (KHTML, like Gecko) Chrome/109.0.0.0 Safari/537.36\"\n",
    "        },\n",
    "    )\n",
    "    \n",
    "    links = gather_links(resp)\n",
    "    \n",
    "    clean_links_array = clean_links(links)\n",
    "    \n",
    "    symbols = symbols + clean_links_array"
   ]
  },
  {
   "cell_type": "code",
   "execution_count": 4,
   "id": "195958a6-eac7-427d-b848-351c86ed7248",
   "metadata": {},
   "outputs": [],
   "source": [
    "stablecoins = list(pd.read_csv('stablecoins.csv').keys())\n",
    "stablecoins = list(map(lambda x: x.lower(), stablecoins))"
   ]
  },
  {
   "cell_type": "code",
   "execution_count": 5,
   "id": "f070ffee-6366-4464-8c5d-a84e6f42a97a",
   "metadata": {},
   "outputs": [],
   "source": [
    "symbol_non_stablecoins = []\n",
    "symbol_stablecoins     = []\n",
    "\n",
    "for symbol in symbols:\n",
    "    \n",
    "    cmp = symbol.replace(\"-USD\", \"\").lower()\n",
    "    if cmp in stablecoins:\n",
    "        symbol_stablecoins.append(symbol)\n",
    "    else:\n",
    "        symbol_non_stablecoins.append(symbol)"
   ]
  },
  {
   "cell_type": "code",
   "execution_count": 6,
   "id": "9bd2691b-4fdd-487a-bd55-f8ee32cfb6ea",
   "metadata": {},
   "outputs": [
    {
     "name": "stdout",
     "output_type": "stream",
     "text": [
      "9811\n",
      "86\n"
     ]
    }
   ],
   "source": [
    "print(len(symbol_non_stablecoins))\n",
    "print(len(symbol_stablecoins))"
   ]
  },
  {
   "cell_type": "code",
   "execution_count": null,
   "id": "10b0e5f2-62d1-4a10-89a7-0eeefc0c1c0f",
   "metadata": {},
   "outputs": [],
   "source": [
    "i = 0\n",
    "for symbol in symbols:\n",
    "    msft = yf.Ticker(symbol)\n",
    "    temp_data = msft.history(period=\"max\")\n",
    "    \n",
    "    nrows = temp_data.shape[0]\n",
    "    ticker = [symbol] * nrows\n",
    "    temp_data = temp_data.drop(columns = ['Dividends', \"Stock Splits\"])\n",
    "    temp_data['close_times_volume'] = temp_data['Close'] * temp_data['Volume']\n",
    "    temp_data['Ticker'] = ticker\n",
    "    \n",
    "    if symbol in symbol_stablecoins:\n",
    "        temp_data['stablecoin'] = [True]  * nrows\n",
    "    else:\n",
    "        temp_data['stablecoin'] = [False] * nrows\n",
    "        \n",
    "    if i == 0:\n",
    "        data = temp_data.copy()\n",
    "    else:\n",
    "        data = pd.concat([data, temp_data],axis = 0)\n",
    "    \n",
    "    i+=1\n",
    "    \n",
    "compression_opts = dict(method='zip',\n",
    "                        archive_name='data_crypto_25_april.csv')\n",
    "data.to_csv('data_crypto_25_april.zip', index=False,\n",
    "          compression=compression_opts) "
   ]
  },
  {
   "cell_type": "code",
   "execution_count": null,
   "id": "0425db1e-a069-406b-8ace-6ba12184adc4",
   "metadata": {},
   "outputs": [],
   "source": [
    "list(data[data.stablecoin == True]['Ticker'].unique())"
   ]
  }
 ],
 "metadata": {
  "kernelspec": {
   "display_name": "Python 3",
   "language": "python",
   "name": "python3"
  },
  "language_info": {
   "codemirror_mode": {
    "name": "ipython",
    "version": 3
   },
   "file_extension": ".py",
   "mimetype": "text/x-python",
   "name": "python",
   "nbconvert_exporter": "python",
   "pygments_lexer": "ipython3",
   "version": "3.9.5"
  }
 },
 "nbformat": 4,
 "nbformat_minor": 5
}
